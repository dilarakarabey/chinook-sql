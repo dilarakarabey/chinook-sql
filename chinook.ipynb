{
 "cells": [
  {
   "cell_type": "markdown",
   "metadata": {},
   "source": [
    "# Answering Business Questions Using SQL\n",
    "\n",
    "### Certain questions were given to us by Dataquest. We will be focusing on answering these questions.\n",
    "\n",
    "#### We will be using a modified version of the database [Chinook](https://github.com/lerocha/chinook-database). Chinook is a database that contains information about a fictional digital music shop. The information is contained in 11 tables. Here's a diagram of the database (Source: Dataquest Mission 189):\n",
    "![](https://s3.amazonaws.com/dq-content/189/chinook-schema.svg)\n",
    "\n",
    "Let's connect to the database and familiarize ourselves with it:"
   ]
  },
  {
   "cell_type": "code",
   "execution_count": 1,
   "metadata": {
    "collapsed": false
   },
   "outputs": [
    {
     "data": {
      "text/plain": [
       "'Connected: None@chinook.db'"
      ]
     },
     "execution_count": 1,
     "metadata": {},
     "output_type": "execute_result"
    }
   ],
   "source": [
    "%%capture\n",
    "%load_ext sql\n",
    "%sql sqlite:///chinook.db"
   ]
  },
  {
   "cell_type": "code",
   "execution_count": 2,
   "metadata": {
    "collapsed": false,
    "scrolled": true
   },
   "outputs": [
    {
     "name": "stdout",
     "output_type": "stream",
     "text": [
      "Done.\n"
     ]
    },
    {
     "data": {
      "text/html": [
       "<table>\n",
       "    <tr>\n",
       "        <th>name</th>\n",
       "        <th>type</th>\n",
       "    </tr>\n",
       "    <tr>\n",
       "        <td>album</td>\n",
       "        <td>table</td>\n",
       "    </tr>\n",
       "    <tr>\n",
       "        <td>artist</td>\n",
       "        <td>table</td>\n",
       "    </tr>\n",
       "    <tr>\n",
       "        <td>customer</td>\n",
       "        <td>table</td>\n",
       "    </tr>\n",
       "    <tr>\n",
       "        <td>employee</td>\n",
       "        <td>table</td>\n",
       "    </tr>\n",
       "    <tr>\n",
       "        <td>genre</td>\n",
       "        <td>table</td>\n",
       "    </tr>\n",
       "    <tr>\n",
       "        <td>invoice</td>\n",
       "        <td>table</td>\n",
       "    </tr>\n",
       "    <tr>\n",
       "        <td>invoice_line</td>\n",
       "        <td>table</td>\n",
       "    </tr>\n",
       "    <tr>\n",
       "        <td>media_type</td>\n",
       "        <td>table</td>\n",
       "    </tr>\n",
       "    <tr>\n",
       "        <td>playlist</td>\n",
       "        <td>table</td>\n",
       "    </tr>\n",
       "    <tr>\n",
       "        <td>playlist_track</td>\n",
       "        <td>table</td>\n",
       "    </tr>\n",
       "    <tr>\n",
       "        <td>track</td>\n",
       "        <td>table</td>\n",
       "    </tr>\n",
       "</table>"
      ],
      "text/plain": [
       "[('album', 'table'),\n",
       " ('artist', 'table'),\n",
       " ('customer', 'table'),\n",
       " ('employee', 'table'),\n",
       " ('genre', 'table'),\n",
       " ('invoice', 'table'),\n",
       " ('invoice_line', 'table'),\n",
       " ('media_type', 'table'),\n",
       " ('playlist', 'table'),\n",
       " ('playlist_track', 'table'),\n",
       " ('track', 'table')]"
      ]
     },
     "execution_count": 2,
     "metadata": {},
     "output_type": "execute_result"
    }
   ],
   "source": [
    "%%sql\n",
    "SELECT\n",
    "    name,\n",
    "    type\n",
    "FROM sqlite_master\n",
    "WHERE type IN (\"table\",\"view\");"
   ]
  },
  {
   "cell_type": "markdown",
   "metadata": {},
   "source": [
    "## Moving on to the first question:\n",
    "\n",
    "\"The Chinook record store has just signed a deal with a new record label, and you've been tasked with selecting the first three albums that will be added to the store, from a list of four. All four albums are by artists that don't have any tracks in the store right now - we have the artist names, and the genre of music they produce:\n",
    "\n",
    "| Artist Name | Genre |\n",
    "| --- | --- |\n",
    "| Regal | Hip-Hop |\n",
    "| Red Tone | Punk |\n",
    "| Meteor and the Girls | Pop |\n",
    "| Slim Jim Bites | Blues |\n",
    "\n",
    "The record label specializes in artists from the USA, and they have given Chinook some money to advertise the new albums in the USA, so we're interested in finding out which genres sell the best in the USA.\"\n",
    "\n",
    "#### Let's write a query that will help us find out which genres sell the most in the USA:"
   ]
  },
  {
   "cell_type": "code",
   "execution_count": 3,
   "metadata": {
    "collapsed": false,
    "scrolled": true
   },
   "outputs": [
    {
     "name": "stdout",
     "output_type": "stream",
     "text": [
      "Done.\n"
     ]
    },
    {
     "data": {
      "text/html": [
       "<table>\n",
       "    <tr>\n",
       "        <th>genre</th>\n",
       "        <th>tracks_sold_in_usa</th>\n",
       "        <th>percentage</th>\n",
       "    </tr>\n",
       "    <tr>\n",
       "        <td>Rock</td>\n",
       "        <td>561</td>\n",
       "        <td>0.5337773549000951</td>\n",
       "    </tr>\n",
       "    <tr>\n",
       "        <td>Alternative &amp; Punk</td>\n",
       "        <td>130</td>\n",
       "        <td>0.12369172216936251</td>\n",
       "    </tr>\n",
       "    <tr>\n",
       "        <td>Metal</td>\n",
       "        <td>124</td>\n",
       "        <td>0.11798287345385347</td>\n",
       "    </tr>\n",
       "    <tr>\n",
       "        <td>R&amp;B/Soul</td>\n",
       "        <td>53</td>\n",
       "        <td>0.05042816365366318</td>\n",
       "    </tr>\n",
       "    <tr>\n",
       "        <td>Blues</td>\n",
       "        <td>36</td>\n",
       "        <td>0.03425309229305423</td>\n",
       "    </tr>\n",
       "    <tr>\n",
       "        <td>Alternative</td>\n",
       "        <td>35</td>\n",
       "        <td>0.03330161750713606</td>\n",
       "    </tr>\n",
       "    <tr>\n",
       "        <td>Latin</td>\n",
       "        <td>22</td>\n",
       "        <td>0.02093244529019981</td>\n",
       "    </tr>\n",
       "    <tr>\n",
       "        <td>Pop</td>\n",
       "        <td>22</td>\n",
       "        <td>0.02093244529019981</td>\n",
       "    </tr>\n",
       "    <tr>\n",
       "        <td>Hip Hop/Rap</td>\n",
       "        <td>20</td>\n",
       "        <td>0.019029495718363463</td>\n",
       "    </tr>\n",
       "    <tr>\n",
       "        <td>Jazz</td>\n",
       "        <td>14</td>\n",
       "        <td>0.013320647002854425</td>\n",
       "    </tr>\n",
       "    <tr>\n",
       "        <td>Easy Listening</td>\n",
       "        <td>13</td>\n",
       "        <td>0.012369172216936251</td>\n",
       "    </tr>\n",
       "    <tr>\n",
       "        <td>Reggae</td>\n",
       "        <td>6</td>\n",
       "        <td>0.005708848715509039</td>\n",
       "    </tr>\n",
       "    <tr>\n",
       "        <td>Electronica/Dance</td>\n",
       "        <td>5</td>\n",
       "        <td>0.004757373929590866</td>\n",
       "    </tr>\n",
       "    <tr>\n",
       "        <td>Classical</td>\n",
       "        <td>4</td>\n",
       "        <td>0.003805899143672693</td>\n",
       "    </tr>\n",
       "    <tr>\n",
       "        <td>Heavy Metal</td>\n",
       "        <td>3</td>\n",
       "        <td>0.0028544243577545195</td>\n",
       "    </tr>\n",
       "    <tr>\n",
       "        <td>Soundtrack</td>\n",
       "        <td>2</td>\n",
       "        <td>0.0019029495718363464</td>\n",
       "    </tr>\n",
       "    <tr>\n",
       "        <td>TV Shows</td>\n",
       "        <td>1</td>\n",
       "        <td>0.0009514747859181732</td>\n",
       "    </tr>\n",
       "</table>"
      ],
      "text/plain": [
       "[('Rock', 561, 0.5337773549000951),\n",
       " ('Alternative & Punk', 130, 0.12369172216936251),\n",
       " ('Metal', 124, 0.11798287345385347),\n",
       " ('R&B/Soul', 53, 0.05042816365366318),\n",
       " ('Blues', 36, 0.03425309229305423),\n",
       " ('Alternative', 35, 0.03330161750713606),\n",
       " ('Latin', 22, 0.02093244529019981),\n",
       " ('Pop', 22, 0.02093244529019981),\n",
       " ('Hip Hop/Rap', 20, 0.019029495718363463),\n",
       " ('Jazz', 14, 0.013320647002854425),\n",
       " ('Easy Listening', 13, 0.012369172216936251),\n",
       " ('Reggae', 6, 0.005708848715509039),\n",
       " ('Electronica/Dance', 5, 0.004757373929590866),\n",
       " ('Classical', 4, 0.003805899143672693),\n",
       " ('Heavy Metal', 3, 0.0028544243577545195),\n",
       " ('Soundtrack', 2, 0.0019029495718363464),\n",
       " ('TV Shows', 1, 0.0009514747859181732)]"
      ]
     },
     "execution_count": 3,
     "metadata": {},
     "output_type": "execute_result"
    }
   ],
   "source": [
    "%%sql\n",
    "WITH genre_tracks AS (\n",
    "                      SELECT t.track_id,\n",
    "                             g.name AS genre\n",
    "                        FROM track AS t\n",
    "                       INNER JOIN genre AS g ON g.genre_id = t.genre_id\n",
    "                     ),\n",
    "       usa_tracks AS (\n",
    "                      SELECT il.track_id,\n",
    "                             SUM(il.quantity) AS tracks_sold\n",
    "                        FROM customer c\n",
    "                       INNER JOIN invoice i ON i.customer_id = c.customer_id\n",
    "                       INNER JOIN invoice_line il ON il.invoice_id = i.invoice_id\n",
    "                       WHERE c.country = \"USA\"\n",
    "                       GROUP BY 1\n",
    "                     )\n",
    "SELECT g.genre,\n",
    "       SUM(u.tracks_sold) AS tracks_sold_in_usa,\n",
    "       SUM(u.tracks_sold) / (SELECT TOTAL(tracks_sold)\n",
    "                               FROM usa_tracks) AS percentage\n",
    "  FROM genre_tracks AS g\n",
    " INNER JOIN usa_tracks u ON u.track_id = g.track_id\n",
    " GROUP BY 1\n",
    " ORDER BY 2 DESC;"
   ]
  },
  {
   "cell_type": "markdown",
   "metadata": {},
   "source": [
    "As we can see above, Rock tracks have the most sales followed by Alternative  Punk. If we compare all these values, the three albums that will be added to the store should belong to Red Tone, Slim Jim Bites and Meteor and the Girls respectively.\n",
    "\n",
    "### Second question:\n",
    "\n",
    "\"Each customer for the Chinook store gets assigned to a sales support agent within the company when they first make a purchase. You have been asked to analyze the purchases of customers belonging to each employee to see if any sales support agent is performing either better or worse than the others.\"\n",
    "\n",
    "#### We should write a query that groups customer purchases by employees. We will be adding the dates the employees were hired and the latest invoice date to make it a fair comparison.  "
   ]
  },
  {
   "cell_type": "code",
   "execution_count": 4,
   "metadata": {
    "collapsed": false
   },
   "outputs": [
    {
     "name": "stdout",
     "output_type": "stream",
     "text": [
      "Done.\n"
     ]
    },
    {
     "data": {
      "text/html": [
       "<table>\n",
       "    <tr>\n",
       "        <th>hire_date</th>\n",
       "        <th>employee</th>\n",
       "        <th>total_sales</th>\n",
       "        <th>current_date</th>\n",
       "    </tr>\n",
       "    <tr>\n",
       "        <td>2017-04-01 00:00:00</td>\n",
       "        <td>Jane Peacock</td>\n",
       "        <td>1731.5100000000039</td>\n",
       "        <td>2020-07-24 00:00:00</td>\n",
       "    </tr>\n",
       "    <tr>\n",
       "        <td>2017-05-03 00:00:00</td>\n",
       "        <td>Margaret Park</td>\n",
       "        <td>1584.0000000000034</td>\n",
       "        <td>2020-07-24 00:00:00</td>\n",
       "    </tr>\n",
       "    <tr>\n",
       "        <td>2017-10-17 00:00:00</td>\n",
       "        <td>Steve Johnson</td>\n",
       "        <td>1393.920000000002</td>\n",
       "        <td>2020-07-24 00:00:00</td>\n",
       "    </tr>\n",
       "</table>"
      ],
      "text/plain": [
       "[('2017-04-01 00:00:00', 'Jane Peacock', 1731.5100000000039, '2020-07-24 00:00:00'),\n",
       " ('2017-05-03 00:00:00', 'Margaret Park', 1584.0000000000034, '2020-07-24 00:00:00'),\n",
       " ('2017-10-17 00:00:00', 'Steve Johnson', 1393.920000000002, '2020-07-24 00:00:00')]"
      ]
     },
     "execution_count": 4,
     "metadata": {},
     "output_type": "execute_result"
    }
   ],
   "source": [
    "%%sql\n",
    "WITH employee_sales AS (SELECT e.first_name || \" \" || e.last_name AS employee,\n",
    "                               SUM(i.total) AS total_sales,\n",
    "                               e.employee_id,\n",
    "                               (SELECT MAX(invoice_date) FROM invoice GROUP BY customer_id) AS date\n",
    "                          FROM customer c\n",
    "                         INNER JOIN employee e ON c.support_rep_id = e.employee_id\n",
    "                         INNER JOIN invoice i ON i.customer_id = c.customer_id\n",
    "                         GROUP BY 1)\n",
    "\n",
    "SELECT e.hire_date,\n",
    "       es.employee,\n",
    "       es.total_sales,\n",
    "       es.date AS current_date\n",
    "  FROM employee e\n",
    " INNER JOIN employee_sales es ON es.employee_id = e.employee_id\n",
    " ORDER BY 1;"
   ]
  },
  {
   "cell_type": "markdown",
   "metadata": {},
   "source": [
    "We sorted the table by the dates they were hired. As their service time increases, so does their total sales. So, our current date is 24.07.2020 according to the invoice table. If we do some quick maths, their average monthly sales are approximately:\n",
    "\n",
    "* Jane: 43\n",
    "* Margaret: 41\n",
    "* Steve: 42\n",
    "\n",
    "They all seem to be performing pretty much the same.\n",
    "\n",
    "### Next, we will analyze the sales data for different countries.\n",
    "\n",
    "###### To avoid overcrowding and make our table more readable, we will be arranging countries with only 1 customer into an \"Other\" row and we will be moving it to the very bottom of the table."
   ]
  },
  {
   "cell_type": "code",
   "execution_count": 5,
   "metadata": {
    "collapsed": false,
    "scrolled": true
   },
   "outputs": [
    {
     "name": "stdout",
     "output_type": "stream",
     "text": [
      "Done.\n"
     ]
    },
    {
     "data": {
      "text/html": [
       "<table>\n",
       "    <tr>\n",
       "        <th>country</th>\n",
       "        <th>total_customers</th>\n",
       "        <th>total_sales</th>\n",
       "        <th>avg_sales_per_customer</th>\n",
       "        <th>avg_order_value</th>\n",
       "    </tr>\n",
       "    <tr>\n",
       "        <td>USA</td>\n",
       "        <td>13</td>\n",
       "        <td>1040.4899999999998</td>\n",
       "        <td>80.0376923076923</td>\n",
       "        <td>7.942671755725189</td>\n",
       "    </tr>\n",
       "    <tr>\n",
       "        <td>Canada</td>\n",
       "        <td>8</td>\n",
       "        <td>535.5900000000001</td>\n",
       "        <td>66.94875000000002</td>\n",
       "        <td>7.047236842105265</td>\n",
       "    </tr>\n",
       "    <tr>\n",
       "        <td>Brazil</td>\n",
       "        <td>5</td>\n",
       "        <td>427.68000000000006</td>\n",
       "        <td>85.53600000000002</td>\n",
       "        <td>7.0111475409836075</td>\n",
       "    </tr>\n",
       "    <tr>\n",
       "        <td>France</td>\n",
       "        <td>5</td>\n",
       "        <td>389.0699999999999</td>\n",
       "        <td>77.81399999999998</td>\n",
       "        <td>7.781399999999998</td>\n",
       "    </tr>\n",
       "    <tr>\n",
       "        <td>Germany</td>\n",
       "        <td>4</td>\n",
       "        <td>334.62</td>\n",
       "        <td>83.655</td>\n",
       "        <td>8.161463414634147</td>\n",
       "    </tr>\n",
       "    <tr>\n",
       "        <td>United Kingdom</td>\n",
       "        <td>3</td>\n",
       "        <td>245.52</td>\n",
       "        <td>81.84</td>\n",
       "        <td>8.768571428571429</td>\n",
       "    </tr>\n",
       "    <tr>\n",
       "        <td>Czech Republic</td>\n",
       "        <td>2</td>\n",
       "        <td>273.24000000000007</td>\n",
       "        <td>136.62000000000003</td>\n",
       "        <td>9.108000000000002</td>\n",
       "    </tr>\n",
       "    <tr>\n",
       "        <td>India</td>\n",
       "        <td>2</td>\n",
       "        <td>183.14999999999998</td>\n",
       "        <td>91.57499999999999</td>\n",
       "        <td>8.72142857142857</td>\n",
       "    </tr>\n",
       "    <tr>\n",
       "        <td>Portugal</td>\n",
       "        <td>2</td>\n",
       "        <td>185.13000000000002</td>\n",
       "        <td>92.56500000000001</td>\n",
       "        <td>6.383793103448276</td>\n",
       "    </tr>\n",
       "    <tr>\n",
       "        <td>Other</td>\n",
       "        <td>15</td>\n",
       "        <td>1094.9400000000003</td>\n",
       "        <td>72.99600000000002</td>\n",
       "        <td>7.44857142857143</td>\n",
       "    </tr>\n",
       "</table>"
      ],
      "text/plain": [
       "[('USA', 13, 1040.4899999999998, 80.0376923076923, 7.942671755725189),\n",
       " ('Canada', 8, 535.5900000000001, 66.94875000000002, 7.047236842105265),\n",
       " ('Brazil', 5, 427.68000000000006, 85.53600000000002, 7.0111475409836075),\n",
       " ('France', 5, 389.0699999999999, 77.81399999999998, 7.781399999999998),\n",
       " ('Germany', 4, 334.62, 83.655, 8.161463414634147),\n",
       " ('United Kingdom', 3, 245.52, 81.84, 8.768571428571429),\n",
       " ('Czech Republic', 2, 273.24000000000007, 136.62000000000003, 9.108000000000002),\n",
       " ('India', 2, 183.14999999999998, 91.57499999999999, 8.72142857142857),\n",
       " ('Portugal', 2, 185.13000000000002, 92.56500000000001, 6.383793103448276),\n",
       " ('Other', 15, 1094.9400000000003, 72.99600000000002, 7.44857142857143)]"
      ]
     },
     "execution_count": 5,
     "metadata": {},
     "output_type": "execute_result"
    }
   ],
   "source": [
    "%%sql\n",
    "WITH other_countries AS (SELECT CASE\n",
    "                                    WHEN (SELECT COUNT(*)\n",
    "                                            FROM customer\n",
    "                                           WHERE country = c.country) = 1 THEN \"Other\"\n",
    "                                    ELSE c.country\n",
    "                                 END AS country,\n",
    "                                 i.*\n",
    "                           FROM customer c\n",
    "                          INNER JOIN invoice i ON i.customer_id = c.customer_id)\n",
    "\n",
    "SELECT country, total_customers, total_sales, avg_sales_per_customer, avg_order_value\n",
    "  FROM (SELECT country,\n",
    "               COUNT(DISTINCT customer_id) total_customers,\n",
    "               TOTAL(total) total_sales,\n",
    "               TOTAL(total)/COUNT(DISTINCT customer_id) avg_sales_per_customer,\n",
    "               TOTAL(total)/COUNT(*) avg_order_value,\n",
    "               CASE\n",
    "                   WHEN country = \"Other\" THEN 1\n",
    "                   ELSE 0\n",
    "                END AS sort\n",
    "          FROM other_countries\n",
    "         GROUP BY 1\n",
    "         ORDER BY sort ASC, 2 DESC);"
   ]
  },
  {
   "cell_type": "markdown",
   "metadata": {},
   "source": [
    "We have ordered our table by total number of customers, with \"Other\" at the bottom of the table. We can see that there are 15 countries with only 1 customer. Even though Czech Republic only has 2 customers, average revenue generated by these two customers seem to be the highest among all countries, followed by Portugal and India.\n",
    "\n",
    "### As our final mission, we will find out what percentage of purchases are album purchases or individual track purchases.\n",
    "\n",
    "\"The Chinook store is setup in a way that allows customer to make purchases in one of the two ways:\n",
    "\n",
    "* purchase a whole album\n",
    "* purchase a collection of one or more individual tracks.\n",
    "\n",
    "The store does not let customers purchase a whole album, and then add individual tracks to that same purchase (unless they do that by choosing each track manually). When customers purchase albums they are charged the same price as if they had purchased each of those tracks separately.\n",
    "\n",
    "Management are currently considering changing their purchasing strategy to save money. The strategy they are considering is to purchase only the most popular tracks from each album from record companies, instead of purchasing every track from an album.\n",
    "\n",
    "We have been asked to find out what percentage of purchases are individual tracks vs whole albums, so that management can use this data to understand the effect this decision might have on overall revenue.\""
   ]
  },
  {
   "cell_type": "code",
   "execution_count": 6,
   "metadata": {
    "collapsed": false
   },
   "outputs": [
    {
     "name": "stdout",
     "output_type": "stream",
     "text": [
      "Done.\n"
     ]
    },
    {
     "data": {
      "text/html": [
       "<table>\n",
       "    <tr>\n",
       "        <th>purchased_an_album</th>\n",
       "        <th>num_invoices</th>\n",
       "        <th>percent_invoices</th>\n",
       "    </tr>\n",
       "    <tr>\n",
       "        <td>No</td>\n",
       "        <td>500</td>\n",
       "        <td>0.8143322475570033</td>\n",
       "    </tr>\n",
       "    <tr>\n",
       "        <td>Yes</td>\n",
       "        <td>114</td>\n",
       "        <td>0.18566775244299674</td>\n",
       "    </tr>\n",
       "</table>"
      ],
      "text/plain": [
       "[('No', 500, 0.8143322475570033), ('Yes', 114, 0.18566775244299674)]"
      ]
     },
     "execution_count": 6,
     "metadata": {},
     "output_type": "execute_result"
    }
   ],
   "source": [
    "%%sql\n",
    "WITH invoice_tracks AS (SELECT MAX(il.track_id) max_id,\n",
    "                             il.invoice_id\n",
    "                        FROM invoice_line il\n",
    "                       INNER JOIN track t ON t.track_id = il.track_id\n",
    "                       GROUP BY il.invoice_id)\n",
    "\n",
    "SELECT purchased_an_album,\n",
    "       COUNT(DISTINCT invoice_id) num_invoices,\n",
    "       CAST(COUNT(DISTINCT invoice_id) AS FLOAT)/(SELECT COUNT(*) FROM invoice) percent_invoices\n",
    "  FROM (SELECT it.*,\n",
    "               CASE\n",
    "                   WHEN\n",
    "                        (\n",
    "                         SELECT t.track_id\n",
    "                           FROM track t\n",
    "                          WHERE t.album_id = (\n",
    "                                            SELECT t1.album_id\n",
    "                                              FROM track t1\n",
    "                                             WHERE t1.track_id = it.max_id\n",
    "                                           )\n",
    "                         \n",
    "                         EXCEPT\n",
    "                         \n",
    "                         SELECT il.track_id\n",
    "                           FROM invoice_line il\n",
    "                          WHERE il.invoice_id = it.invoice_id\n",
    "                        ) IS NULL\n",
    "                    AND\n",
    "                        (\n",
    "                         SELECT il.track_id\n",
    "                           FROM invoice_line il\n",
    "                          WHERE il.invoice_id = it.invoice_id\n",
    "                         \n",
    "                         EXCEPT\n",
    "                         \n",
    "                         SELECT t.track_id\n",
    "                           FROM track t\n",
    "                          WHERE t.album_id = (\n",
    "                                            SELECT t1.album_id\n",
    "                                              FROM track t1\n",
    "                                             WHERE t1.track_id = it.max_id\n",
    "                                           )\n",
    "                        ) IS NULL\n",
    "                    THEN \"Yes\" ELSE \"No\"\n",
    "                 END AS \"purchased_an_album\"\n",
    "            FROM invoice_tracks it)\n",
    " GROUP BY purchased_an_album;"
   ]
  },
  {
   "cell_type": "markdown",
   "metadata": {
    "collapsed": true
   },
   "source": [
    "#### What we've done here is that we listed tracks from albums and invoices using the last track of the albums to identify them. Then, we compared the lists to find whether the customer purchased the entire album or purchased individual tracks.\n",
    "\n",
    "As we can see, 81% of the purchases made are individual track purchases. However, 20% of our revenue still comes from entire album sales. Therefore, the new strategy that the management is considering has the possibility to cost us 1/5 of the revenue."
   ]
  }
 ],
 "metadata": {
  "kernelspec": {
   "display_name": "Python 3",
   "language": "python",
   "name": "python3"
  },
  "language_info": {
   "codemirror_mode": {
    "name": "ipython",
    "version": 3
   },
   "file_extension": ".py",
   "mimetype": "text/x-python",
   "name": "python",
   "nbconvert_exporter": "python",
   "pygments_lexer": "ipython3",
   "version": "3.4.3"
  }
 },
 "nbformat": 4,
 "nbformat_minor": 2
}
